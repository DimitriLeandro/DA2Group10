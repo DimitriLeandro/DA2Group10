{
 "cells": [
  {
   "cell_type": "code",
   "execution_count": 116,
   "id": "ff07b1c4",
   "metadata": {},
   "outputs": [],
   "source": [
    "import os\n",
    "import matplotlib.pyplot as plt\n",
    "import numpy as np\n",
    "import random\n",
    "import tensorflow as tf\n",
    "from tensorflow import keras\n",
    "from tensorflow.keras.preprocessing.image import ImageDataGenerator, load_img, img_to_array\n",
    "%matplotlib inline"
   ]
  },
  {
   "cell_type": "markdown",
   "id": "1542a816",
   "metadata": {},
   "source": [
    "## Test on single image"
   ]
  },
  {
   "cell_type": "code",
   "execution_count": 125,
   "id": "909a0dc3",
   "metadata": {},
   "outputs": [],
   "source": [
    "pic = load_img(r\"C:\\Users\\simle\\OneDrive\\Bureau\\Programmation\\WWU - DA2 Project\\Labeled images\\combined\\ponds\\1262.png\")"
   ]
  },
  {
   "cell_type": "code",
   "execution_count": 126,
   "id": "69cf21ff",
   "metadata": {},
   "outputs": [
    {
     "data": {
      "text/plain": [
       "<bound method Image.getpixel of <PIL.Image.Image image mode=RGB size=256x256 at 0x2A1609E12B0>>"
      ]
     },
     "execution_count": 126,
     "metadata": {},
     "output_type": "execute_result"
    }
   ],
   "source": [
    "pic.getpixel"
   ]
  },
  {
   "cell_type": "code",
   "execution_count": 127,
   "id": "259e0729",
   "metadata": {},
   "outputs": [],
   "source": [
    "pic_array = img_to_array(pic)"
   ]
  },
  {
   "cell_type": "code",
   "execution_count": 128,
   "id": "248475a6",
   "metadata": {},
   "outputs": [
    {
     "data": {
      "text/plain": [
       "(256, 256, 3)"
      ]
     },
     "execution_count": 128,
     "metadata": {},
     "output_type": "execute_result"
    }
   ],
   "source": [
    "pic_array.shape"
   ]
  },
  {
   "cell_type": "code",
   "execution_count": 129,
   "id": "873775cb",
   "metadata": {},
   "outputs": [
    {
     "data": {
      "text/plain": [
       "(1, 256, 256, 3)"
      ]
     },
     "execution_count": 129,
     "metadata": {},
     "output_type": "execute_result"
    }
   ],
   "source": [
    "pic_array = pic_array.reshape((1,) + pic_array.shape)\n",
    "pic_array.shape"
   ]
  },
  {
   "cell_type": "code",
   "execution_count": 130,
   "id": "782726a1",
   "metadata": {},
   "outputs": [],
   "source": [
    "gen = ImageDataGenerator(rotation_range=40,\n",
    "                        width_shift_range=0.2,\n",
    "                        height_shift_range=0.2,\n",
    "                        shear_range=0.2,\n",
    "                        horizontal_flip=True,\n",
    "                        fill_mode='nearest')"
   ]
  },
  {
   "cell_type": "code",
   "execution_count": 131,
   "id": "d4317f47",
   "metadata": {},
   "outputs": [
    {
     "name": "stdout",
     "output_type": "stream",
     "text": [
      "Finished\n"
     ]
    }
   ],
   "source": [
    "count = 0\n",
    "for batch in gen.flow(pic_array, batch_size=1, save_to_dir= r\"C:\\Users\\simle\\OneDrive\\Bureau\\Programmation\\WWU - DA2 Project\\Labeled images\\combined\\ponds\", save_prefix= \"pool\", save_format = \"png\"):\n",
    "    count += 1\n",
    "    if count == 10:\n",
    "        break\n",
    "\n",
    "print(\"Finished\")"
   ]
  },
  {
   "cell_type": "code",
   "execution_count": 114,
   "id": "86518421",
   "metadata": {},
   "outputs": [],
   "source": [
    "DIRECTORY = r\"C:\\Users\\simle\\Downloads\\training_patches\\training_patches\\ponds\\\\\""
   ]
  },
  {
   "cell_type": "code",
   "execution_count": 115,
   "id": "044205ce",
   "metadata": {},
   "outputs": [
    {
     "name": "stdout",
     "output_type": "stream",
     "text": [
      "Finished\n"
     ]
    }
   ],
   "source": [
    "for pic in os.listdir(DIRECTORY):\n",
    "    pic = load_img(DIRECTORY + pic)\n",
    "    pic_array = img_to_array(pic)\n",
    "    pic_array = pic_array.reshape((1,) + pic_array.shape)\n",
    "    count = 0\n",
    "    for batch in gen.flow(pic_array, batch_size=1, save_to_dir= r\"C:\\Users\\simle\\Downloads\\training_patches\\training_patches\\ponds\", save_prefix= \"pond\", save_format = \"png\"):\n",
    "        count += 1\n",
    "        if count == 10:\n",
    "            break\n",
    "print(\"Finished\")"
   ]
  },
  {
   "cell_type": "code",
   "execution_count": null,
   "id": "f0e65ed5",
   "metadata": {},
   "outputs": [],
   "source": []
  }
 ],
 "metadata": {
  "kernelspec": {
   "display_name": "Python 3",
   "language": "python",
   "name": "python3"
  },
  "language_info": {
   "codemirror_mode": {
    "name": "ipython",
    "version": 3
   },
   "file_extension": ".py",
   "mimetype": "text/x-python",
   "name": "python",
   "nbconvert_exporter": "python",
   "pygments_lexer": "ipython3",
   "version": "3.8.8"
  }
 },
 "nbformat": 4,
 "nbformat_minor": 5
}
