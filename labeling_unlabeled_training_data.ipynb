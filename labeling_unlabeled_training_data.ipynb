{
 "cells": [
  {
   "cell_type": "markdown",
   "id": "189c1d57",
   "metadata": {},
   "source": [
    "### Imports"
   ]
  },
  {
   "cell_type": "code",
   "execution_count": 124,
   "id": "816c2cd4",
   "metadata": {},
   "outputs": [],
   "source": [
    "import shutil\n",
    "import numpy as np\n",
    "import matplotlib.pyplot as plt\n",
    "from matplotlib.image import imread, imsave\n",
    "from pathlib import Path"
   ]
  },
  {
   "cell_type": "markdown",
   "id": "4042d8af",
   "metadata": {},
   "source": [
    "### Path to images"
   ]
  },
  {
   "cell_type": "code",
   "execution_count": 38,
   "id": "a6475208",
   "metadata": {},
   "outputs": [],
   "source": [
    "dir_imgs     = Path('../../mnt/c/Users/dimit/Downloads/unlabeled_training_data/unlabeled_data/')\n",
    "dir_new_imgs = dir_imgs.parent.joinpath('labeled_data')\n",
    "dir_new_imgs.mkdir()"
   ]
  },
  {
   "cell_type": "markdown",
   "id": "ba0c316e",
   "metadata": {},
   "source": [
    "### Loading the first unlabeled image"
   ]
  },
  {
   "cell_type": "code",
   "execution_count": 45,
   "id": "cf469807",
   "metadata": {},
   "outputs": [],
   "source": [
    "img_path = list(dir_imgs.iterdir())[0] # [0] -> 0FRGJD.png\n",
    "img = imread(img_path)"
   ]
  },
  {
   "cell_type": "markdown",
   "id": "9d3d154a",
   "metadata": {},
   "source": [
    "### Sliding window"
   ]
  },
  {
   "cell_type": "code",
   "execution_count": 81,
   "id": "b1f47ebb",
   "metadata": {
    "scrolled": true
   },
   "outputs": [],
   "source": [
    "size      = 256\n",
    "step      = int(0.8*size)\n",
    "img_count = 1\n",
    "\n",
    "for i in np.arange(0, img.shape[0], step):\n",
    "    for j in np.arange(0, img.shape[1], step):\n",
    "        if i+size > img.shape[0]:\n",
    "            continue\n",
    "        if j+size > img.shape[1]:\n",
    "            continue\n",
    "        new_img = img[i:i+size, j:j+size, :].copy()\n",
    "        imsave(dir_new_imgs.joinpath('{}.png'.format(img_count)), new_img, format='png')\n",
    "        img_count += 1"
   ]
  },
  {
   "cell_type": "markdown",
   "id": "b1ee4bc4",
   "metadata": {},
   "source": [
    "### Arrays with truth labels\n",
    "\n",
    "Need to do this manually and carefully... "
   ]
  },
  {
   "cell_type": "code",
   "execution_count": 87,
   "id": "4663e9cc",
   "metadata": {},
   "outputs": [],
   "source": [
    "background_imgs  = np.arange(1, img_count)\n",
    "trampoline_imgs  = np.array([504, 549, 550, 662, 668, 695, 706, 730, 733, 819, 820, 851, 1006, 1012, 1013, 1022, 1043, 1049, 1050, 1085, 1089, 1094, 1119, 1132, 1165, 1170, 1202, 1217, 1218, 1238, 1239, 1240, 1287, 1288, 1332, 1359])\n",
    "pound_imgs       = np.array([542, 725, 736, 774, 885, 886, 923, 924, 933, 965, 996, 1009, 1045, 1163, 1256, 1285, 1319, 1432])\n",
    "pool_imgs        = np.array([882])\n",
    "solar_panel_imgs = np.array([821, 823, 824, 859, 860, 863, 896, 919, 920, 932, 939, 957, 1004, 1036, 1041, 1051, 1069, 1071, 1074, 1172, 1175, 1176, 1213, 1214, 1215, 1284, 1322])\n",
    "confusing_imgs   = np.array([511, 512, 547, 582, 822, 858, 895, 958, 971, 984, 1005, 1037, 1046, 1047, 1075, 1201, 1210, 1237, 1324, 1325, 1353, 1354, 1357, 1358, 1391, 1392, 1396, 1433])"
   ]
  },
  {
   "cell_type": "markdown",
   "id": "12d0f56c",
   "metadata": {},
   "source": [
    "### Removing pools, trampolines, pounds, solar and confusing images from the background class"
   ]
  },
  {
   "cell_type": "code",
   "execution_count": 103,
   "id": "26c26628",
   "metadata": {},
   "outputs": [],
   "source": [
    "background_imgs = list(filter(lambda i: i not in trampoline_imgs, background_imgs))\n",
    "background_imgs = list(filter(lambda i: i not in pound_imgs, background_imgs))\n",
    "background_imgs = list(filter(lambda i: i not in pool_imgs, background_imgs))\n",
    "background_imgs = list(filter(lambda i: i not in solar_panel_imgs, background_imgs))\n",
    "background_imgs = list(filter(lambda i: i not in confusing_imgs, background_imgs))\n",
    "background_imgs = np.array(background_imgs)\n",
    "assert len(background_imgs) == img_count - 1 - (len(trampoline_imgs) + len(pound_imgs) + len(pool_imgs) + len(solar_panel_imgs) + len(confusing_imgs))"
   ]
  },
  {
   "cell_type": "markdown",
   "id": "d1652acd",
   "metadata": {},
   "source": [
    "### Downsampling the background class"
   ]
  },
  {
   "cell_type": "code",
   "execution_count": 120,
   "id": "8980d5d7",
   "metadata": {},
   "outputs": [],
   "source": [
    "np.random.seed(0)\n",
    "background_imgs_downsampled = np.random.choice(background_imgs, 100, replace=False)"
   ]
  },
  {
   "cell_type": "markdown",
   "id": "e94bedab",
   "metadata": {},
   "source": [
    "### Moving files to organized paths"
   ]
  },
  {
   "cell_type": "code",
   "execution_count": 131,
   "id": "562c8b9f",
   "metadata": {},
   "outputs": [],
   "source": [
    "classes = {\n",
    "    'background': background_imgs_downsampled,\n",
    "    'pools':      pool_imgs,\n",
    "    'pounds':     pound_imgs,\n",
    "    'solar':      solar_panel_imgs,\n",
    "    'trampoline': trampoline_imgs\n",
    "}\n",
    "\n",
    "for folder_name, array in classes.items():\n",
    "    class_path = dir_new_imgs.joinpath(folder_name)\n",
    "    class_path.mkdir()\n",
    "    for img_number in array:\n",
    "        img_name  = '{}.png'.format(img_number)\n",
    "        from_path = dir_new_imgs.joinpath(img_name)\n",
    "        to_path   = class_path.joinpath(img_name)\n",
    "        shutil.move(from_path, to_path)"
   ]
  },
  {
   "cell_type": "markdown",
   "id": "b978455e",
   "metadata": {},
   "source": [
    "### Deleting samples that were not selected to the background class"
   ]
  },
  {
   "cell_type": "code",
   "execution_count": 133,
   "id": "d99304eb",
   "metadata": {},
   "outputs": [],
   "source": [
    "for item in dir_new_imgs.iterdir():\n",
    "    if item.is_file():\n",
    "        item.unlink()"
   ]
  },
  {
   "cell_type": "markdown",
   "id": "889ae565",
   "metadata": {},
   "source": [
    "### Review images\n",
    "\n",
    "Need to do this manually and carefully again..."
   ]
  },
  {
   "cell_type": "code",
   "execution_count": 134,
   "id": "8625426e",
   "metadata": {},
   "outputs": [],
   "source": [
    "not_sure_background = np.array([394, 507, 508, 545, 546, 945, 981, 1023, 1296])\n",
    "not_sure_trampoline = np.array([549, 550, 1012, 1013, 1049])\n",
    "not_sure_pound      = np.array([923, 924, 996, 1009])\n",
    "not_sure_pool       = np.array([])\n",
    "not_sure_solar      = np.array([1071])"
   ]
  },
  {
   "cell_type": "markdown",
   "id": "0d79d16b",
   "metadata": {},
   "source": [
    "### Removing images I'm not sure"
   ]
  },
  {
   "cell_type": "code",
   "execution_count": 136,
   "id": "8b06f5cd",
   "metadata": {},
   "outputs": [],
   "source": [
    "classes = {\n",
    "    'background': not_sure_background,\n",
    "    'pools':      not_sure_pool,\n",
    "    'pounds':     not_sure_pound,\n",
    "    'solar':      not_sure_solar,\n",
    "    'trampoline': not_sure_trampoline\n",
    "}\n",
    "\n",
    "for folder_name, array in classes.items():\n",
    "    class_path = dir_new_imgs.joinpath(folder_name)\n",
    "    for img_number in array:\n",
    "        img_path = class_path.joinpath('{}.png'.format(img_number))\n",
    "        img_path.unlink()"
   ]
  }
 ],
 "metadata": {
  "kernelspec": {
   "display_name": "Python 3 (ipykernel)",
   "language": "python",
   "name": "python3"
  },
  "language_info": {
   "codemirror_mode": {
    "name": "ipython",
    "version": 3
   },
   "file_extension": ".py",
   "mimetype": "text/x-python",
   "name": "python",
   "nbconvert_exporter": "python",
   "pygments_lexer": "ipython3",
   "version": "3.8.10"
  }
 },
 "nbformat": 4,
 "nbformat_minor": 5
}
