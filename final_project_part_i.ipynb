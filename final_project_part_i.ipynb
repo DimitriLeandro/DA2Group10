{
 "cells": [
  {
   "cell_type": "markdown",
   "id": "43a020db",
   "metadata": {},
   "source": [
    "# Data Analytics II - Final Project Part I"
   ]
  },
  {
   "cell_type": "markdown",
   "id": "2e0d92f7",
   "metadata": {},
   "source": [
    "## Methodology:\n",
    "\n",
    "- Feature scaling\n",
    "\n",
    "- Feature importance using Gini Index\n",
    "\n",
    "- Deletion of unnecessary features\n",
    "\n",
    "- Correlation between features\n",
    "\n",
    "- Visualization of some of the best features\n",
    "\n",
    "For each classifier:\n",
    "\n",
    "    - SFS analysis using standard hyperparameters\n",
    "    \n",
    "    - Gridsearch using the selected features\n",
    "\n",
    "    - Analysis of classification metrics\n",
    "\n",
    "- Fitting of the best model with all the training data\n",
    "\n",
    "- Predictions to the test dataset"
   ]
  },
  {
   "cell_type": "markdown",
   "id": "5fd7cc4f",
   "metadata": {},
   "source": [
    "## Imports"
   ]
  },
  {
   "cell_type": "code",
   "execution_count": null,
   "id": "9388edd0",
   "metadata": {},
   "outputs": [],
   "source": [
    "import numpy as np\n",
    "import pandas as pd\n",
    "import plotly.graph_objects as go\n",
    "import plotly.express as px\n",
    "import seaborn as sb\n",
    "import matplotlib.pyplot as plt\n",
    "from sklearn.ensemble import RandomForestClassifier, AdaBoostClassifier\n",
    "from sklearn.svm import SVC\n",
    "from sklearn.neighbors import KNeighborsClassifier\n",
    "from sklearn.discriminant_analysis import LinearDiscriminantAnalysis, QuadraticDiscriminantAnalysis\n",
    "from sklearn.linear_model import LogisticRegression\n",
    "from sklearn.metrics import confusion_matrix, classification_report, accuracy_score\n",
    "from sklearn.model_selection import GridSearchCV, KFold\n",
    "from sklearn.feature_selection import SequentialFeatureSelector\n",
    "from sklearn.preprocessing import StandardScaler\n",
    "from sklearn.decomposition import PCA"
   ]
  },
  {
   "cell_type": "markdown",
   "id": "c8faec9d",
   "metadata": {},
   "source": [
    "## Training dataset preprocessing"
   ]
  },
  {
   "cell_type": "code",
   "execution_count": null,
   "id": "b5af4a30",
   "metadata": {},
   "outputs": [],
   "source": [
    "df = pd.read_csv('train_set.csv')\n",
    "y  = df['y']\n",
    "X  = pd.DataFrame(\n",
    "    data    = StandardScaler().fit_transform(df.drop('y', axis=1)),\n",
    "    columns = df.columns.drop('y')\n",
    ")"
   ]
  },
  {
   "cell_type": "code",
   "execution_count": null,
   "id": "79134040",
   "metadata": {},
   "outputs": [],
   "source": [
    "df_label_counts = pd.DataFrame(\n",
    "    data    = np.transpose(np.unique(y, return_counts=True)),\n",
    "    columns = ['label', 'count'] \n",
    ").sort_values(\n",
    "    by        = 'count',\n",
    "    ascending = False\n",
    ").reset_index(\n",
    "    drop = True\n",
    ")\n",
    "\n",
    "df_label_counts['pct'] = 100*df_label_counts['count']/y.size\n",
    "\n",
    "df_label_counts"
   ]
  },
  {
   "cell_type": "markdown",
   "id": "7a7e1440",
   "metadata": {},
   "source": [
    "## Feature Importance"
   ]
  },
  {
   "cell_type": "code",
   "execution_count": null,
   "id": "faf86fed",
   "metadata": {},
   "outputs": [],
   "source": [
    "rf = RandomForestClassifier()\n",
    "rf.fit(X, y)"
   ]
  },
  {
   "cell_type": "code",
   "execution_count": null,
   "id": "be6f239f",
   "metadata": {},
   "outputs": [],
   "source": [
    "max_features = int(df.columns.size/3)\n",
    "\n",
    "df_feature_importances = pd.DataFrame(\n",
    "    data    = zip(df.columns.drop('y'), rf.feature_importances_),\n",
    "    columns = ['feature', 'importance'] \n",
    ").sort_values(\n",
    "    by        = 'importance',\n",
    "    ascending = False,\n",
    ").reset_index(\n",
    "    drop = True\n",
    ")[:max_features]\n",
    "\n",
    "fig = px.line(\n",
    "    data_frame = df_feature_importances,\n",
    "    x          = 'feature',\n",
    "    y          = 'importance'\n",
    ")\n",
    "fig.show()"
   ]
  },
  {
   "cell_type": "markdown",
   "id": "f00732c6",
   "metadata": {},
   "source": [
    "## Deletion of unnecessary features"
   ]
  },
  {
   "cell_type": "code",
   "execution_count": null,
   "id": "95b67da6",
   "metadata": {},
   "outputs": [],
   "source": [
    "X = df[df_feature_importances['feature']]\n",
    "X.shape"
   ]
  },
  {
   "cell_type": "markdown",
   "id": "e4952b2a",
   "metadata": {},
   "source": [
    "## Correlation between features"
   ]
  },
  {
   "cell_type": "code",
   "execution_count": null,
   "id": "16b209ee",
   "metadata": {},
   "outputs": [],
   "source": [
    "fig, ax = plt.subplots(figsize=(18,14))\n",
    "sb.heatmap(X.corr(), cmap=\"Blues\", annot=True, linewidths=0.1)"
   ]
  },
  {
   "cell_type": "markdown",
   "id": "e2172cf3",
   "metadata": {},
   "source": [
    "Features are not correlated: no need to remove correlated features to prevent overfitting!"
   ]
  },
  {
   "cell_type": "markdown",
   "id": "ff3a8d56",
   "metadata": {},
   "source": [
    "## SFS and Gridsearch to each classifier\n",
    "\n",
    "OBS: no need for SFS when using Random Forests. No need for hyperparameter tunning for Discriminant Analysis."
   ]
  },
  {
   "cell_type": "code",
   "execution_count": null,
   "id": "777e32de",
   "metadata": {},
   "outputs": [],
   "source": [
    "n_jobs               = -1\n",
    "cv                   = 5\n",
    "verbose              = 3\n",
    "n_features_to_select = int(df.columns.size/10)\n",
    "scoring              = 'accuracy'"
   ]
  },
  {
   "cell_type": "markdown",
   "id": "f363429d",
   "metadata": {},
   "source": [
    "### Random Forest\n",
    "\n",
    "No need for SFS when using trees!"
   ]
  },
  {
   "cell_type": "code",
   "execution_count": null,
   "id": "c2effae6",
   "metadata": {},
   "outputs": [],
   "source": [
    "gs_rf = GridSearchCV(\n",
    "    estimator  = RandomForestClassifier(),\n",
    "    n_jobs     = n_jobs,\n",
    "    cv         = cv,\n",
    "    verbose    = verbose,\n",
    "    scoring    = scoring,\n",
    "    param_grid = dict(\n",
    "        n_estimators      = [100],\n",
    "        criterion         = ['gini'],\n",
    "        max_depth         = [18], #[18, 20, 22],\n",
    "        min_samples_split = [0.0001], #[0.0001, 0.0005, 0.0010],\n",
    "        class_weight      = [None],\n",
    "        max_samples       = [0.66]\n",
    "    )\n",
    ")\n",
    "gs_rf.fit(X, y)\n",
    "gs = gs_rf\n",
    "print('Estimator:', gs.estimator.__class__.__name__)\n",
    "print('Best result: {:.3f} +- {:.3f}'.format(\n",
    "    gs.cv_results_['mean_test_score'][gs.best_index_],\n",
    "    gs.cv_results_['std_test_score'][gs.best_index_],\n",
    "))\n",
    "print('Best hyperparameters:', gs.best_params_)"
   ]
  },
  {
   "cell_type": "markdown",
   "id": "fab15271",
   "metadata": {},
   "source": [
    "### LDA\n",
    "\n",
    "No need for gridsearch when using discriminant analysis!"
   ]
  },
  {
   "cell_type": "code",
   "execution_count": null,
   "id": "c4d7db4b",
   "metadata": {},
   "outputs": [],
   "source": [
    "sfs_lda = SequentialFeatureSelector(\n",
    "    estimator            = LinearDiscriminantAnalysis(),\n",
    "    direction            = 'forward',\n",
    "    n_features_to_select = n_features_to_select,\n",
    "    n_jobs               = n_jobs,\n",
    "    cv                   = cv,\n",
    "    scoring              = scoring,\n",
    ")\n",
    "sfs_lda.fit(X, y)"
   ]
  },
  {
   "cell_type": "code",
   "execution_count": null,
   "id": "388aeed3",
   "metadata": {},
   "outputs": [],
   "source": [
    "kf       = KFold(n_splits=cv, shuffle=True)\n",
    "features = []\n",
    "accs     = []\n",
    "stds     = []\n",
    "\n",
    "for current_feature in sfs_lda.get_feature_names_out():\n",
    "    features.append(current_feature)\n",
    "    inner_accs = []\n",
    "    \n",
    "    for train_index, test_index in kf.split(X):\n",
    "        X_train, X_test = X.loc[train_index][features], X.loc[test_index][features]\n",
    "        y_train, y_test = y.loc[train_index], y.loc[test_index]\n",
    "        clf = sfs_lda.estimator\n",
    "        clf.fit(X_train, y_train)\n",
    "        y_pred = clf.predict(X_test)\n",
    "        inner_accs.append(accuracy_score(y_test, y_pred))\n",
    "        \n",
    "    accs.append(np.mean(inner_accs))\n",
    "    stds.append(np.std(inner_accs))"
   ]
  },
  {
   "cell_type": "code",
   "execution_count": null,
   "id": "1011f1f0",
   "metadata": {},
   "outputs": [],
   "source": [
    "fig = px.line(\n",
    "    x       = sfs_lda.get_feature_names_out(),\n",
    "    y       = accs,\n",
    "    error_y = stds,\n",
    "    title   = 'Sequential Feature Selector: ' + sfs_lda.estimator.__class__.__name__,\n",
    "    labels  = dict(\n",
    "        x = 'Added feature', \n",
    "        y = 'Accuracy'\n",
    "    )\n",
    ")\n",
    "fig.show()"
   ]
  },
  {
   "cell_type": "code",
   "execution_count": null,
   "id": "3d8de531",
   "metadata": {},
   "outputs": [],
   "source": [
    "features_lda = sfs_lda.get_feature_names_out()[:8]\n",
    "gs_lda = GridSearchCV(\n",
    "    estimator  = LinearDiscriminantAnalysis(),\n",
    "    n_jobs     = n_jobs,\n",
    "    cv         = cv,\n",
    "    verbose    = verbose,\n",
    "    scoring    = scoring,\n",
    "    param_grid = dict()\n",
    ")\n",
    "gs_lda.fit(X[features_lda], y)\n",
    "gs = gs_lda\n",
    "print('Estimator:', gs.estimator.__class__.__name__)\n",
    "print('Best result: {:.3f} +- {:.3f}'.format(\n",
    "    gs.cv_results_['mean_test_score'][gs.best_index_],\n",
    "    gs.cv_results_['std_test_score'][gs.best_index_],\n",
    "))\n",
    "print('Best features:', features_lda)\n",
    "print('Best hyperparameters:', gs.best_params_)"
   ]
  },
  {
   "cell_type": "markdown",
   "id": "4924cd9e",
   "metadata": {},
   "source": [
    "### Suppor Vector Machine\n",
    "\n",
    "    SFS with standard parameters and then gridsearch with selected features\n",
    "    \n",
    "### K Nearest Neighbors\n",
    "\n",
    "    SFS with standard parameters and then gridsearch with selected features\n",
    "    \n",
    "### So on...\n",
    "\n",
    "In the end, test XGBoost -> this is probably the one that will work the best, but its not from sklearn. So we can do this later."
   ]
  },
  {
   "cell_type": "code",
   "execution_count": null,
   "id": "d839155a",
   "metadata": {},
   "outputs": [],
   "source": []
  },
  {
   "cell_type": "code",
   "execution_count": null,
   "id": "7a492583",
   "metadata": {},
   "outputs": [],
   "source": []
  },
  {
   "cell_type": "code",
   "execution_count": null,
   "id": "0dd35832",
   "metadata": {},
   "outputs": [],
   "source": []
  }
 ],
 "metadata": {
  "kernelspec": {
   "display_name": "Python 3 (ipykernel)",
   "language": "python",
   "name": "python3"
  },
  "language_info": {
   "codemirror_mode": {
    "name": "ipython",
    "version": 3
   },
   "file_extension": ".py",
   "mimetype": "text/x-python",
   "name": "python",
   "nbconvert_exporter": "python",
   "pygments_lexer": "ipython3",
   "version": "3.10.5"
  }
 },
 "nbformat": 4,
 "nbformat_minor": 5
}
