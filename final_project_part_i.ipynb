{
 "cells": [
  {
   "cell_type": "markdown",
   "id": "43a020db",
   "metadata": {
    "id": "43a020db"
   },
   "source": [
    "# Data Analytics II - Final Project Part I"
   ]
  },
  {
   "cell_type": "markdown",
   "id": "2e0d92f7",
   "metadata": {
    "id": "2e0d92f7"
   },
   "source": [
    "## Methodology:\n",
    "\n",
    "- Feature scaling\n",
    "\n",
    "- Feature importance using Gini Index\n",
    "\n",
    "- Deletion of unnecessary features\n",
    "\n",
    "- Correlation between features\n",
    "\n",
    "For each classifier:\n",
    "\n",
    "    - SFS analysis using standard hyperparameters\n",
    "    \n",
    "    - Gridsearch using the selected features\n",
    "\n",
    "    - Analysis of classification metrics\n",
    "\n",
    "- Fitting of the best model with all the training data\n",
    "\n",
    "- Predictions to the test dataset"
   ]
  },
  {
   "cell_type": "markdown",
   "id": "5fd7cc4f",
   "metadata": {
    "id": "5fd7cc4f"
   },
   "source": [
    "## Imports"
   ]
  },
  {
   "cell_type": "code",
   "execution_count": null,
   "id": "9388edd0",
   "metadata": {
    "colab": {
     "base_uri": "https://localhost:8080/"
    },
    "executionInfo": {
     "elapsed": 21552,
     "status": "ok",
     "timestamp": 1656250143516,
     "user": {
      "displayName": "Dimitri Leandro",
      "userId": "15780256931048792593"
     },
     "user_tz": -120
    },
    "id": "9388edd0",
    "outputId": "5ef95c99-25ec-4944-a2c9-41f32a5714e7"
   },
   "outputs": [],
   "source": [
    "import numpy as np\n",
    "import pandas as pd\n",
    "import plotly.graph_objects as go\n",
    "import plotly.express as px\n",
    "import seaborn as sb\n",
    "import matplotlib.pyplot as plt\n",
    "import warnings\n",
    "import json\n",
    "from time import time\n",
    "from sklearn.ensemble import RandomForestClassifier\n",
    "from sklearn.svm import SVC\n",
    "from sklearn.neighbors import KNeighborsClassifier\n",
    "from sklearn.discriminant_analysis import LinearDiscriminantAnalysis\n",
    "from sklearn.linear_model import LogisticRegression\n",
    "from sklearn.metrics import confusion_matrix, classification_report, accuracy_score\n",
    "from sklearn.model_selection import GridSearchCV, KFold\n",
    "from sklearn.feature_selection import SequentialFeatureSelector \n",
    "from sklearn.preprocessing import StandardScaler\n",
    "\n",
    "warnings.filterwarnings(\"ignore\")\n",
    "# !pip install -U kaleido"
   ]
  },
  {
   "cell_type": "markdown",
   "id": "wuZo0unlIo5N",
   "metadata": {
    "id": "wuZo0unlIo5N"
   },
   "source": [
    "## Downloading and unziping datasets"
   ]
  },
  {
   "cell_type": "code",
   "execution_count": null,
   "id": "aZoa22InInfy",
   "metadata": {
    "colab": {
     "base_uri": "https://localhost:8080/"
    },
    "executionInfo": {
     "elapsed": 2994,
     "status": "ok",
     "timestamp": 1656250146503,
     "user": {
      "displayName": "Dimitri Leandro",
      "userId": "15780256931048792593"
     },
     "user_tz": -120
    },
    "id": "aZoa22InInfy",
    "outputId": "6834bde8-67d7-4540-e690-98c45d623617"
   },
   "outputs": [],
   "source": [
    "# !wget https://uni-muenster.sciebo.de/s/bmzyEnwSscZ0tam/download?path=%2F&files=train_set.csv\n",
    "# !unzip -qq /content/download?path=%2F"
   ]
  },
  {
   "cell_type": "markdown",
   "id": "BBvRsrAZK9Ej",
   "metadata": {
    "id": "BBvRsrAZK9Ej"
   },
   "source": [
    "## Mounting drive to save results"
   ]
  },
  {
   "cell_type": "code",
   "execution_count": null,
   "id": "tnNrpj30LDID",
   "metadata": {
    "colab": {
     "base_uri": "https://localhost:8080/"
    },
    "executionInfo": {
     "elapsed": 14932,
     "status": "ok",
     "timestamp": 1656250641169,
     "user": {
      "displayName": "Dimitri Leandro",
      "userId": "15780256931048792593"
     },
     "user_tz": -120
    },
    "id": "tnNrpj30LDID",
    "outputId": "68c139e5-54e7-4ab0-e84a-2dbebcefee73"
   },
   "outputs": [],
   "source": [
    "# from google.colab import drive\n",
    "# drive.mount('/content/drive')"
   ]
  },
  {
   "cell_type": "markdown",
   "id": "c8faec9d",
   "metadata": {
    "id": "c8faec9d"
   },
   "source": [
    "## Training dataset preprocessing"
   ]
  },
  {
   "cell_type": "code",
   "execution_count": null,
   "id": "b5af4a30",
   "metadata": {
    "executionInfo": {
     "elapsed": 1240,
     "status": "ok",
     "timestamp": 1656251207972,
     "user": {
      "displayName": "Dimitri Leandro",
      "userId": "15780256931048792593"
     },
     "user_tz": -120
    },
    "id": "b5af4a30"
   },
   "outputs": [],
   "source": [
    "df = pd.read_csv('/home/dimi/Downloads/task_1_datasets/train_set.csv') #'/content/task_1/train_set.csv'\n",
    "y  = df['y']\n",
    "X  = pd.DataFrame(\n",
    "    data    = StandardScaler().fit_transform(df.drop('y', axis=1)),\n",
    "    columns = df.columns.drop('y')\n",
    ")"
   ]
  },
  {
   "cell_type": "code",
   "execution_count": null,
   "id": "79134040",
   "metadata": {
    "colab": {
     "base_uri": "https://localhost:8080/",
     "height": 677
    },
    "executionInfo": {
     "elapsed": 238,
     "status": "ok",
     "timestamp": 1656250148108,
     "user": {
      "displayName": "Dimitri Leandro",
      "userId": "15780256931048792593"
     },
     "user_tz": -120
    },
    "id": "79134040",
    "outputId": "545ee05b-21c7-4792-d3dd-c27b8c5dd46e"
   },
   "outputs": [],
   "source": [
    "df_label_counts = pd.DataFrame(\n",
    "    data    = np.transpose(np.unique(y, return_counts=True)),\n",
    "    columns = ['label', 'count'] \n",
    ").sort_values(\n",
    "    by        = 'count',\n",
    "    ascending = False\n",
    ").reset_index(\n",
    "    drop = True\n",
    ")\n",
    "\n",
    "df_label_counts['pct'] = 100*df_label_counts['count']/y.size\n",
    "\n",
    "df_label_counts"
   ]
  },
  {
   "cell_type": "markdown",
   "id": "7a7e1440",
   "metadata": {
    "id": "7a7e1440"
   },
   "source": [
    "## Feature Importance"
   ]
  },
  {
   "cell_type": "code",
   "execution_count": null,
   "id": "faf86fed",
   "metadata": {
    "executionInfo": {
     "elapsed": 230,
     "status": "ok",
     "timestamp": 1656251029561,
     "user": {
      "displayName": "Dimitri Leandro",
      "userId": "15780256931048792593"
     },
     "user_tz": -120
    },
    "id": "faf86fed"
   },
   "outputs": [],
   "source": [
    "# rf = RandomForestClassifier(\n",
    "#     n_estimators = 1000,\n",
    "#     n_jobs       = -1,\n",
    "#     max_samples  = 0.66\n",
    "# )\n",
    "# rf.fit(X, y)"
   ]
  },
  {
   "cell_type": "code",
   "execution_count": null,
   "id": "XGhB-oYwPNtE",
   "metadata": {
    "executionInfo": {
     "elapsed": 8,
     "status": "ok",
     "timestamp": 1656251030482,
     "user": {
      "displayName": "Dimitri Leandro",
      "userId": "15780256931048792593"
     },
     "user_tz": -120
    },
    "id": "XGhB-oYwPNtE"
   },
   "outputs": [],
   "source": [
    "# df_feature_importances = pd.DataFrame(\n",
    "#     data    = zip(df.columns.drop('y'), rf.feature_importances_),\n",
    "#     columns = ['feature', 'importance'] \n",
    "# ).sort_values(\n",
    "#     by        = 'importance',\n",
    "#     ascending = False,\n",
    "# ).reset_index(\n",
    "#     drop = True\n",
    "# )\n",
    "\n",
    "# df_feature_importances.to_csv(\n",
    "#     'results/task_1/feature_importance_final_project_part_i.csv', #'/content/drive/MyDrive/Colab Notebooks/feature_importance_final_project_part_i.csv', \n",
    "#     index = False\n",
    "# )"
   ]
  },
  {
   "cell_type": "code",
   "execution_count": null,
   "id": "be6f239f",
   "metadata": {
    "colab": {
     "base_uri": "https://localhost:8080/",
     "height": 542
    },
    "executionInfo": {
     "elapsed": 585,
     "status": "ok",
     "timestamp": 1656251857839,
     "user": {
      "displayName": "Dimitri Leandro",
      "userId": "15780256931048792593"
     },
     "user_tz": -120
    },
    "id": "be6f239f",
    "outputId": "520dd8b3-9dd0-49d7-fc01-1c52197cdd19"
   },
   "outputs": [],
   "source": [
    "max_features = 30\n",
    "df_feature_importances = pd.read_csv('results/task_1/feature_importance_final_project_part_i.csv')\n",
    "fig = px.bar(\n",
    "    data_frame = df_feature_importances[:max_features],\n",
    "    x          = 'feature',\n",
    "    y          = 'importance'\n",
    ")\n",
    "fig.update_xaxes(tickangle=90)\n",
    "fig.write_image('results/task_1/feature_importance_final_project_part_i.pdf')\n",
    "fig.show()"
   ]
  },
  {
   "cell_type": "markdown",
   "id": "e4952b2a",
   "metadata": {
    "id": "e4952b2a"
   },
   "source": [
    "## Correlation between features"
   ]
  },
  {
   "cell_type": "code",
   "execution_count": null,
   "id": "16b209ee",
   "metadata": {
    "colab": {
     "base_uri": "https://localhost:8080/",
     "height": 811
    },
    "executionInfo": {
     "elapsed": 2281,
     "status": "ok",
     "timestamp": 1656251878565,
     "user": {
      "displayName": "Dimitri Leandro",
      "userId": "15780256931048792593"
     },
     "user_tz": -120
    },
    "id": "16b209ee",
    "outputId": "874a8c4a-13ad-4c93-e475-65864ad80aa4"
   },
   "outputs": [],
   "source": [
    "fig, ax = plt.subplots(figsize=(18,14))\n",
    "sb.heatmap(X[df_feature_importances.loc[:8, 'feature']].corr(), cmap=\"Blues\", annot=True, linewidths=0.1)\n",
    "fig.savefig('results/task_1/feature_correlations_final_project_part_i.pdf')\n",
    "fig.show()"
   ]
  },
  {
   "cell_type": "markdown",
   "id": "e2172cf3",
   "metadata": {
    "id": "e2172cf3"
   },
   "source": [
    "Features are not correlated: no need to remove correlated features to prevent overfitting!"
   ]
  },
  {
   "cell_type": "markdown",
   "id": "ff3a8d56",
   "metadata": {
    "id": "ff3a8d56"
   },
   "source": [
    "## SFS to each classifier\n",
    "\n",
    "OBS: no need for SFS when using Random Forests."
   ]
  },
  {
   "cell_type": "code",
   "execution_count": null,
   "id": "777e32de",
   "metadata": {
    "executionInfo": {
     "elapsed": 253,
     "status": "ok",
     "timestamp": 1656252052224,
     "user": {
      "displayName": "Dimitri Leandro",
      "userId": "15780256931048792593"
     },
     "user_tz": -120
    },
    "id": "777e32de"
   },
   "outputs": [],
   "source": [
    "n_jobs               = -1\n",
    "cv                   = 10\n",
    "verbose              = 3\n",
    "n_features_to_select = 100\n",
    "plot_step            = 10\n",
    "scoring              = 'accuracy'"
   ]
  },
  {
   "cell_type": "code",
   "execution_count": null,
   "id": "2ad35cff",
   "metadata": {},
   "outputs": [],
   "source": [
    "def run_sfs(estimator, X, y, n_features_to_select, cv, scoring, n_jobs, sorted_features=None, plot_step=1):\n",
    "    \n",
    "    if sorted_features is None:\n",
    "        sfs = SequentialFeatureSelector(\n",
    "            estimator            = estimator,\n",
    "            direction            = 'forward',\n",
    "            n_features_to_select = n_features_to_select,\n",
    "            n_jobs               = n_jobs,\n",
    "            cv                   = cv,\n",
    "            scoring              = scoring,\n",
    "        )\n",
    "        sfs.fit(X, y)\n",
    "        sorted_features = sfs.get_feature_names_out()\n",
    "    \n",
    "    kf               = KFold(n_splits=cv, shuffle=True)\n",
    "    accs             = []\n",
    "    stds             = []\n",
    "    n_features_range = np.arange(plot_step, n_features_to_select+1, plot_step)\n",
    "\n",
    "    for n_features in n_features_range:\n",
    "        print(n_features)\n",
    "        features   = sorted_features[:n_features]\n",
    "        inner_accs = []\n",
    "\n",
    "        for train_index, test_index in kf.split(X):\n",
    "            X_train, X_test = X.loc[train_index][features], X.loc[test_index][features]\n",
    "            y_train, y_test = y.loc[train_index], y.loc[test_index]\n",
    "            clf = estimator\n",
    "            clf.fit(X_train, y_train)\n",
    "            y_pred = clf.predict(X_test)\n",
    "            inner_accs.append(accuracy_score(y_test, y_pred))\n",
    "\n",
    "        accs.append(np.mean(inner_accs))\n",
    "        stds.append(np.std(inner_accs))\n",
    "\n",
    "    fig = px.line(\n",
    "        x       = n_features_range,\n",
    "        y       = accs,\n",
    "        error_y = stds,\n",
    "        title   = 'Sequential Feature Selector: ' + estimator.__class__.__name__,\n",
    "        labels  = dict(\n",
    "            x = 'Number of features', \n",
    "            y = 'Accuracy'\n",
    "        )\n",
    "    )\n",
    "    fig.update_xaxes(tickvals=n_features_range)\n",
    "    fig.write_image('results/task_1/sfs_{}_final_project_part_i.pdf'.format(estimator.__class__.__name__))\n",
    "    fig.show()\n",
    "    \n",
    "    np.savetxt(\n",
    "        fname = 'results/task_1/sfs_{}_final_project_part_i.csv'.format(estimator.__class__.__name__), \n",
    "        X     = sorted_features, \n",
    "        fmt   = '%s'\n",
    "    )"
   ]
  },
  {
   "cell_type": "markdown",
   "id": "3ed38e43",
   "metadata": {},
   "source": [
    "### LDA"
   ]
  },
  {
   "cell_type": "code",
   "execution_count": null,
   "id": "b059a38e",
   "metadata": {},
   "outputs": [],
   "source": [
    "%%time\n",
    "run_sfs(\n",
    "    LinearDiscriminantAnalysis(),\n",
    "    X[df_feature_importances.loc[:100, 'feature']],\n",
    "    y,\n",
    "    n_features_to_select,\n",
    "    cv,\n",
    "    scoring,\n",
    "    n_jobs,\n",
    "    df_feature_importances['feature'],\n",
    "    plot_step\n",
    ")"
   ]
  },
  {
   "cell_type": "markdown",
   "id": "47eed40c",
   "metadata": {},
   "source": [
    "### KNN"
   ]
  },
  {
   "cell_type": "code",
   "execution_count": null,
   "id": "12a070ea",
   "metadata": {},
   "outputs": [],
   "source": [
    "%%time\n",
    "run_sfs(\n",
    "    KNeighborsClassifier(n_jobs=n_jobs),\n",
    "    X[df_feature_importances.loc[:100, 'feature']],\n",
    "    y,\n",
    "    n_features_to_select,\n",
    "    cv,\n",
    "    scoring,\n",
    "    n_jobs,\n",
    "    df_feature_importances['feature'],\n",
    "    plot_step\n",
    ")"
   ]
  },
  {
   "cell_type": "markdown",
   "id": "47debd3c",
   "metadata": {},
   "source": [
    "### SVM"
   ]
  },
  {
   "cell_type": "code",
   "execution_count": null,
   "id": "80f16c9d",
   "metadata": {},
   "outputs": [],
   "source": [
    "%%time\n",
    "run_sfs(\n",
    "    SVC(),\n",
    "    X[df_feature_importances.loc[:100, 'feature']],\n",
    "    y,\n",
    "    n_features_to_select,\n",
    "    cv,\n",
    "    scoring,\n",
    "    n_jobs,\n",
    "    df_feature_importances['feature'],\n",
    "    plot_step\n",
    ")"
   ]
  },
  {
   "cell_type": "markdown",
   "id": "2959597f",
   "metadata": {},
   "source": [
    "### LR"
   ]
  },
  {
   "cell_type": "code",
   "execution_count": null,
   "id": "3561d5d4",
   "metadata": {},
   "outputs": [],
   "source": [
    "%%time\n",
    "run_sfs(\n",
    "    LogisticRegression(n_jobs=n_jobs),\n",
    "    X[df_feature_importances.loc[:100, 'feature']],\n",
    "    y,\n",
    "    n_features_to_select,\n",
    "    cv,\n",
    "    scoring,\n",
    "    n_jobs,\n",
    "    df_feature_importances['feature'],\n",
    "    plot_step\n",
    ")"
   ]
  },
  {
   "cell_type": "markdown",
   "id": "be1736bf",
   "metadata": {},
   "source": [
    "## Gridsearch"
   ]
  },
  {
   "cell_type": "code",
   "execution_count": null,
   "id": "3a429979",
   "metadata": {},
   "outputs": [],
   "source": [
    "def run_gridsearch(estimator, X, y, param_grid, cv, scoring, n_jobs, verbose):\n",
    "    gs = GridSearchCV(\n",
    "        estimator  = estimator,\n",
    "        n_jobs     = n_jobs,\n",
    "        cv         = cv,\n",
    "        verbose    = verbose,\n",
    "        scoring    = scoring,\n",
    "        param_grid = param_grid\n",
    "    )\n",
    "    gs.fit(X, y)\n",
    "    results = {\n",
    "        'Estimator': str(estimator.__class__.__name__),\n",
    "        'Number of features': X.shape[1],\n",
    "        'Best result': '{:.3f} +- {:.3f}'.format(\n",
    "            float(gs.cv_results_['mean_test_score'][gs.best_index_]),\n",
    "            float(gs.cv_results_['std_test_score'][gs.best_index_]),\n",
    "        ),\n",
    "        'Best hyperparameters': gs.best_params_\n",
    "    }\n",
    "    with open(\n",
    "        file = 'results/task_1/gridsearch_{}_final_project_part_i.json'.format(estimator.__class__.__name__),\n",
    "        mode = 'w'\n",
    "    ) as file:\n",
    "        json.dump(results, file, indent=4)\n",
    "    print(results)\n",
    "    return gs"
   ]
  },
  {
   "cell_type": "markdown",
   "id": "ecf44471",
   "metadata": {},
   "source": [
    "### Random Forest"
   ]
  },
  {
   "cell_type": "code",
   "execution_count": null,
   "id": "5cd30bd4",
   "metadata": {},
   "outputs": [],
   "source": [
    "%%time\n",
    "\n",
    "param_grid = dict(\n",
    "    n_estimators      = [1000],\n",
    "    criterion         = ['gini'],\n",
    "    max_depth         = [10, 11, 12],\n",
    "    class_weight      = [None],\n",
    "    max_samples       = [0.66, 0.75, 1]\n",
    ")\n",
    "\n",
    "run_gridsearch(\n",
    "    RandomForestClassifier(), \n",
    "    X[df_feature_importances.loc[:100, 'feature']], \n",
    "    y, \n",
    "    param_grid, \n",
    "    cv, \n",
    "    scoring, \n",
    "    n_jobs, \n",
    "    verbose\n",
    ")"
   ]
  },
  {
   "cell_type": "markdown",
   "id": "c1e4a6e8",
   "metadata": {},
   "source": [
    "### KNN"
   ]
  },
  {
   "cell_type": "code",
   "execution_count": null,
   "id": "b92e4bc5",
   "metadata": {},
   "outputs": [],
   "source": [
    "%%time\n",
    "\n",
    "param_grid = dict(\n",
    "    n_neighbors = [5, 10, 20, 30], #large K prevents overfitting!\n",
    ")\n",
    "\n",
    "run_gridsearch(\n",
    "    KNeighborsClassifier(), \n",
    "    X[df_feature_importances.loc[:60, 'feature']], \n",
    "    y, \n",
    "    param_grid, \n",
    "    cv, \n",
    "    scoring, \n",
    "    1, # use just one kernel with KNN, otherwise, memory fuuuuuull \n",
    "    verbose\n",
    ")"
   ]
  },
  {
   "cell_type": "markdown",
   "id": "09dde873",
   "metadata": {
    "id": "d839155a"
   },
   "source": [
    "### SVM"
   ]
  },
  {
   "cell_type": "code",
   "execution_count": null,
   "id": "7a492583",
   "metadata": {
    "id": "7a492583"
   },
   "outputs": [],
   "source": [
    "%%time\n",
    "\n",
    "param_grid = dict(\n",
    "    kernel = ['linear', 'poly', 'rbf'],\n",
    "    degree = [2, 3]\n",
    ")\n",
    "\n",
    "run_gridsearch(\n",
    "    SVC(), \n",
    "    X[df_feature_importances.loc[:50, 'feature']], \n",
    "    y, \n",
    "    param_grid, \n",
    "    cv, \n",
    "    scoring, \n",
    "    n_jobs, \n",
    "    verbose\n",
    ")"
   ]
  },
  {
   "cell_type": "markdown",
   "id": "a525b728",
   "metadata": {},
   "source": [
    "### LR"
   ]
  },
  {
   "cell_type": "code",
   "execution_count": null,
   "id": "9234549e",
   "metadata": {},
   "outputs": [],
   "source": [
    "%%time\n",
    "\n",
    "param_grid = dict(\n",
    "    solver   = ['saga'],\n",
    "    penalty  = ['elasticnet'],\n",
    "    C        = [0.5, 0.75, 1, 1.25, 1.5],\n",
    "    l1_ratio = [0.01, 0.25, 0.5, 0.75, 0.99]\n",
    ")\n",
    "\n",
    "run_gridsearch(\n",
    "    LogisticRegression(), \n",
    "    X[df_feature_importances.loc[:80, 'feature']], \n",
    "    y, \n",
    "    param_grid, \n",
    "    cv, \n",
    "    scoring, \n",
    "    n_jobs, \n",
    "    verbose\n",
    ")"
   ]
  },
  {
   "cell_type": "markdown",
   "id": "5a1dc78c",
   "metadata": {},
   "source": [
    "### LDA"
   ]
  },
  {
   "cell_type": "code",
   "execution_count": null,
   "id": "9da2b89b",
   "metadata": {},
   "outputs": [],
   "source": [
    "%%time\n",
    "\n",
    "param_grid = dict()\n",
    "\n",
    "run_gridsearch(\n",
    "    LinearDiscriminantAnalysis(), \n",
    "    X[df_feature_importances.loc[:90, 'feature']], \n",
    "    y, \n",
    "    param_grid, \n",
    "    cv, \n",
    "    scoring, \n",
    "    n_jobs, \n",
    "    verbose\n",
    ")"
   ]
  },
  {
   "cell_type": "code",
   "execution_count": null,
   "id": "0dd35832",
   "metadata": {
    "id": "0dd35832"
   },
   "outputs": [],
   "source": []
  },
  {
   "cell_type": "code",
   "execution_count": null,
   "id": "091ec651",
   "metadata": {},
   "outputs": [],
   "source": []
  },
  {
   "cell_type": "code",
   "execution_count": null,
   "id": "a8ea07a4",
   "metadata": {},
   "outputs": [],
   "source": []
  }
 ],
 "metadata": {
  "colab": {
   "collapsed_sections": [
    "5fd7cc4f",
    "wuZo0unlIo5N",
    "BBvRsrAZK9Ej",
    "c8faec9d",
    "f00732c6"
   ],
   "name": "Cópia de final_project_part_i.ipynb",
   "provenance": [
    {
     "file_id": "https://github.com/DimitriLeandro/DA2Group10/blob/main/final_project_part_i.ipynb",
     "timestamp": 1656250085652
    }
   ]
  },
  "kernelspec": {
   "display_name": "Python 3 (ipykernel)",
   "language": "python",
   "name": "python3"
  },
  "language_info": {
   "codemirror_mode": {
    "name": "ipython",
    "version": 3
   },
   "file_extension": ".py",
   "mimetype": "text/x-python",
   "name": "python",
   "nbconvert_exporter": "python",
   "pygments_lexer": "ipython3",
   "version": "3.8.10"
  }
 },
 "nbformat": 4,
 "nbformat_minor": 5
}
