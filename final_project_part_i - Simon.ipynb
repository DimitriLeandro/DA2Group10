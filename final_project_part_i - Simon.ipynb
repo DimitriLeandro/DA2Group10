{
 "cells": [
  {
   "cell_type": "markdown",
   "id": "43a020db",
   "metadata": {},
   "source": [
    "# Data Analytics II - Final Project Part I"
   ]
  },
  {
   "cell_type": "markdown",
   "id": "2e0d92f7",
   "metadata": {},
   "source": [
    "## Methodology:\n",
    "\n",
    "- Feature scaling\n",
    "\n",
    "- Feature importance using Gini Index\n",
    "\n",
    "- Deletion of unnecessary features\n",
    "\n",
    "- Correlation between features\n",
    "\n",
    "- Visualization of some of the best features\n",
    "\n",
    "For each classifier:\n",
    "\n",
    "    - SFS analysis using standard hyperparameters\n",
    "    \n",
    "    - Gridsearch using the selected features\n",
    "\n",
    "    - Analysis of classification metrics\n",
    "\n",
    "- Fitting of the best model with all the training data\n",
    "\n",
    "- Predictions to the test dataset"
   ]
  },
  {
   "cell_type": "code",
   "execution_count": 2,
   "id": "082f315e",
   "metadata": {},
   "outputs": [
    {
     "name": "stdout",
     "output_type": "stream",
     "text": [
      "Collecting plotly\n",
      "  Downloading plotly-5.8.2-py2.py3-none-any.whl (15.2 MB)\n",
      "Collecting tenacity>=6.2.0\n",
      "  Downloading tenacity-8.0.1-py3-none-any.whl (24 kB)\n",
      "Installing collected packages: tenacity, plotly\n",
      "Successfully installed plotly-5.8.2 tenacity-8.0.1\n",
      "Note: you may need to restart the kernel to use updated packages.\n"
     ]
    }
   ],
   "source": [
    "pip install plotly"
   ]
  },
  {
   "cell_type": "markdown",
   "id": "5fd7cc4f",
   "metadata": {},
   "source": [
    "## Imports"
   ]
  },
  {
   "cell_type": "code",
   "execution_count": 3,
   "id": "9388edd0",
   "metadata": {},
   "outputs": [],
   "source": [
    "import numpy as np\n",
    "import pandas as pd\n",
    "import plotly.graph_objects as go\n",
    "import plotly.express as px\n",
    "import seaborn as sb\n",
    "import matplotlib.pyplot as plt\n",
    "from sklearn.ensemble import RandomForestClassifier, AdaBoostClassifier\n",
    "from sklearn.svm import SVC\n",
    "from sklearn.neighbors import KNeighborsClassifier\n",
    "from sklearn.discriminant_analysis import LinearDiscriminantAnalysis, QuadraticDiscriminantAnalysis\n",
    "from sklearn.linear_model import LogisticRegression\n",
    "from sklearn.metrics import confusion_matrix, classification_report, accuracy_score\n",
    "from sklearn.model_selection import GridSearchCV, KFold\n",
    "from sklearn.feature_selection import SequentialFeatureSelector\n",
    "from sklearn.preprocessing import StandardScaler\n",
    "from sklearn.decomposition import PCA"
   ]
  },
  {
   "cell_type": "markdown",
   "id": "c8faec9d",
   "metadata": {},
   "source": [
    "## Training dataset preprocessing"
   ]
  },
  {
   "cell_type": "code",
   "execution_count": 4,
   "id": "b5af4a30",
   "metadata": {},
   "outputs": [
    {
     "ename": "FileNotFoundError",
     "evalue": "[Errno 2] No such file or directory: 'train_set.csv'",
     "output_type": "error",
     "traceback": [
      "\u001b[1;31m---------------------------------------------------------------------------\u001b[0m",
      "\u001b[1;31mFileNotFoundError\u001b[0m                         Traceback (most recent call last)",
      "\u001b[1;32m<ipython-input-4-e3128666227b>\u001b[0m in \u001b[0;36m<module>\u001b[1;34m\u001b[0m\n\u001b[1;32m----> 1\u001b[1;33m \u001b[0mdf\u001b[0m \u001b[1;33m=\u001b[0m \u001b[0mpd\u001b[0m\u001b[1;33m.\u001b[0m\u001b[0mread_csv\u001b[0m\u001b[1;33m(\u001b[0m\u001b[1;34m'train_set.csv'\u001b[0m\u001b[1;33m)\u001b[0m\u001b[1;33m\u001b[0m\u001b[1;33m\u001b[0m\u001b[0m\n\u001b[0m\u001b[0;32m      2\u001b[0m \u001b[0my\u001b[0m  \u001b[1;33m=\u001b[0m \u001b[0mdf\u001b[0m\u001b[1;33m[\u001b[0m\u001b[1;34m'y'\u001b[0m\u001b[1;33m]\u001b[0m\u001b[1;33m\u001b[0m\u001b[1;33m\u001b[0m\u001b[0m\n\u001b[0;32m      3\u001b[0m X  = pd.DataFrame(\n\u001b[0;32m      4\u001b[0m     \u001b[0mdata\u001b[0m    \u001b[1;33m=\u001b[0m \u001b[0mStandardScaler\u001b[0m\u001b[1;33m(\u001b[0m\u001b[1;33m)\u001b[0m\u001b[1;33m.\u001b[0m\u001b[0mfit_transform\u001b[0m\u001b[1;33m(\u001b[0m\u001b[0mdf\u001b[0m\u001b[1;33m.\u001b[0m\u001b[0mdrop\u001b[0m\u001b[1;33m(\u001b[0m\u001b[1;34m'y'\u001b[0m\u001b[1;33m,\u001b[0m \u001b[0maxis\u001b[0m\u001b[1;33m=\u001b[0m\u001b[1;36m1\u001b[0m\u001b[1;33m)\u001b[0m\u001b[1;33m)\u001b[0m\u001b[1;33m,\u001b[0m\u001b[1;33m\u001b[0m\u001b[1;33m\u001b[0m\u001b[0m\n\u001b[0;32m      5\u001b[0m     \u001b[0mcolumns\u001b[0m \u001b[1;33m=\u001b[0m \u001b[0mdf\u001b[0m\u001b[1;33m.\u001b[0m\u001b[0mcolumns\u001b[0m\u001b[1;33m.\u001b[0m\u001b[0mdrop\u001b[0m\u001b[1;33m(\u001b[0m\u001b[1;34m'y'\u001b[0m\u001b[1;33m)\u001b[0m\u001b[1;33m\u001b[0m\u001b[1;33m\u001b[0m\u001b[0m\n",
      "\u001b[1;32m~\\anaconda3\\lib\\site-packages\\pandas\\io\\parsers.py\u001b[0m in \u001b[0;36mread_csv\u001b[1;34m(filepath_or_buffer, sep, delimiter, header, names, index_col, usecols, squeeze, prefix, mangle_dupe_cols, dtype, engine, converters, true_values, false_values, skipinitialspace, skiprows, skipfooter, nrows, na_values, keep_default_na, na_filter, verbose, skip_blank_lines, parse_dates, infer_datetime_format, keep_date_col, date_parser, dayfirst, cache_dates, iterator, chunksize, compression, thousands, decimal, lineterminator, quotechar, quoting, doublequote, escapechar, comment, encoding, dialect, error_bad_lines, warn_bad_lines, delim_whitespace, low_memory, memory_map, float_precision, storage_options)\u001b[0m\n\u001b[0;32m    608\u001b[0m     \u001b[0mkwds\u001b[0m\u001b[1;33m.\u001b[0m\u001b[0mupdate\u001b[0m\u001b[1;33m(\u001b[0m\u001b[0mkwds_defaults\u001b[0m\u001b[1;33m)\u001b[0m\u001b[1;33m\u001b[0m\u001b[1;33m\u001b[0m\u001b[0m\n\u001b[0;32m    609\u001b[0m \u001b[1;33m\u001b[0m\u001b[0m\n\u001b[1;32m--> 610\u001b[1;33m     \u001b[1;32mreturn\u001b[0m \u001b[0m_read\u001b[0m\u001b[1;33m(\u001b[0m\u001b[0mfilepath_or_buffer\u001b[0m\u001b[1;33m,\u001b[0m \u001b[0mkwds\u001b[0m\u001b[1;33m)\u001b[0m\u001b[1;33m\u001b[0m\u001b[1;33m\u001b[0m\u001b[0m\n\u001b[0m\u001b[0;32m    611\u001b[0m \u001b[1;33m\u001b[0m\u001b[0m\n\u001b[0;32m    612\u001b[0m \u001b[1;33m\u001b[0m\u001b[0m\n",
      "\u001b[1;32m~\\anaconda3\\lib\\site-packages\\pandas\\io\\parsers.py\u001b[0m in \u001b[0;36m_read\u001b[1;34m(filepath_or_buffer, kwds)\u001b[0m\n\u001b[0;32m    460\u001b[0m \u001b[1;33m\u001b[0m\u001b[0m\n\u001b[0;32m    461\u001b[0m     \u001b[1;31m# Create the parser.\u001b[0m\u001b[1;33m\u001b[0m\u001b[1;33m\u001b[0m\u001b[1;33m\u001b[0m\u001b[0m\n\u001b[1;32m--> 462\u001b[1;33m     \u001b[0mparser\u001b[0m \u001b[1;33m=\u001b[0m \u001b[0mTextFileReader\u001b[0m\u001b[1;33m(\u001b[0m\u001b[0mfilepath_or_buffer\u001b[0m\u001b[1;33m,\u001b[0m \u001b[1;33m**\u001b[0m\u001b[0mkwds\u001b[0m\u001b[1;33m)\u001b[0m\u001b[1;33m\u001b[0m\u001b[1;33m\u001b[0m\u001b[0m\n\u001b[0m\u001b[0;32m    463\u001b[0m \u001b[1;33m\u001b[0m\u001b[0m\n\u001b[0;32m    464\u001b[0m     \u001b[1;32mif\u001b[0m \u001b[0mchunksize\u001b[0m \u001b[1;32mor\u001b[0m \u001b[0miterator\u001b[0m\u001b[1;33m:\u001b[0m\u001b[1;33m\u001b[0m\u001b[1;33m\u001b[0m\u001b[0m\n",
      "\u001b[1;32m~\\anaconda3\\lib\\site-packages\\pandas\\io\\parsers.py\u001b[0m in \u001b[0;36m__init__\u001b[1;34m(self, f, engine, **kwds)\u001b[0m\n\u001b[0;32m    817\u001b[0m             \u001b[0mself\u001b[0m\u001b[1;33m.\u001b[0m\u001b[0moptions\u001b[0m\u001b[1;33m[\u001b[0m\u001b[1;34m\"has_index_names\"\u001b[0m\u001b[1;33m]\u001b[0m \u001b[1;33m=\u001b[0m \u001b[0mkwds\u001b[0m\u001b[1;33m[\u001b[0m\u001b[1;34m\"has_index_names\"\u001b[0m\u001b[1;33m]\u001b[0m\u001b[1;33m\u001b[0m\u001b[1;33m\u001b[0m\u001b[0m\n\u001b[0;32m    818\u001b[0m \u001b[1;33m\u001b[0m\u001b[0m\n\u001b[1;32m--> 819\u001b[1;33m         \u001b[0mself\u001b[0m\u001b[1;33m.\u001b[0m\u001b[0m_engine\u001b[0m \u001b[1;33m=\u001b[0m \u001b[0mself\u001b[0m\u001b[1;33m.\u001b[0m\u001b[0m_make_engine\u001b[0m\u001b[1;33m(\u001b[0m\u001b[0mself\u001b[0m\u001b[1;33m.\u001b[0m\u001b[0mengine\u001b[0m\u001b[1;33m)\u001b[0m\u001b[1;33m\u001b[0m\u001b[1;33m\u001b[0m\u001b[0m\n\u001b[0m\u001b[0;32m    820\u001b[0m \u001b[1;33m\u001b[0m\u001b[0m\n\u001b[0;32m    821\u001b[0m     \u001b[1;32mdef\u001b[0m \u001b[0mclose\u001b[0m\u001b[1;33m(\u001b[0m\u001b[0mself\u001b[0m\u001b[1;33m)\u001b[0m\u001b[1;33m:\u001b[0m\u001b[1;33m\u001b[0m\u001b[1;33m\u001b[0m\u001b[0m\n",
      "\u001b[1;32m~\\anaconda3\\lib\\site-packages\\pandas\\io\\parsers.py\u001b[0m in \u001b[0;36m_make_engine\u001b[1;34m(self, engine)\u001b[0m\n\u001b[0;32m   1048\u001b[0m             )\n\u001b[0;32m   1049\u001b[0m         \u001b[1;31m# error: Too many arguments for \"ParserBase\"\u001b[0m\u001b[1;33m\u001b[0m\u001b[1;33m\u001b[0m\u001b[1;33m\u001b[0m\u001b[0m\n\u001b[1;32m-> 1050\u001b[1;33m         \u001b[1;32mreturn\u001b[0m \u001b[0mmapping\u001b[0m\u001b[1;33m[\u001b[0m\u001b[0mengine\u001b[0m\u001b[1;33m]\u001b[0m\u001b[1;33m(\u001b[0m\u001b[0mself\u001b[0m\u001b[1;33m.\u001b[0m\u001b[0mf\u001b[0m\u001b[1;33m,\u001b[0m \u001b[1;33m**\u001b[0m\u001b[0mself\u001b[0m\u001b[1;33m.\u001b[0m\u001b[0moptions\u001b[0m\u001b[1;33m)\u001b[0m  \u001b[1;31m# type: ignore[call-arg]\u001b[0m\u001b[1;33m\u001b[0m\u001b[1;33m\u001b[0m\u001b[0m\n\u001b[0m\u001b[0;32m   1051\u001b[0m \u001b[1;33m\u001b[0m\u001b[0m\n\u001b[0;32m   1052\u001b[0m     \u001b[1;32mdef\u001b[0m \u001b[0m_failover_to_python\u001b[0m\u001b[1;33m(\u001b[0m\u001b[0mself\u001b[0m\u001b[1;33m)\u001b[0m\u001b[1;33m:\u001b[0m\u001b[1;33m\u001b[0m\u001b[1;33m\u001b[0m\u001b[0m\n",
      "\u001b[1;32m~\\anaconda3\\lib\\site-packages\\pandas\\io\\parsers.py\u001b[0m in \u001b[0;36m__init__\u001b[1;34m(self, src, **kwds)\u001b[0m\n\u001b[0;32m   1865\u001b[0m \u001b[1;33m\u001b[0m\u001b[0m\n\u001b[0;32m   1866\u001b[0m         \u001b[1;31m# open handles\u001b[0m\u001b[1;33m\u001b[0m\u001b[1;33m\u001b[0m\u001b[1;33m\u001b[0m\u001b[0m\n\u001b[1;32m-> 1867\u001b[1;33m         \u001b[0mself\u001b[0m\u001b[1;33m.\u001b[0m\u001b[0m_open_handles\u001b[0m\u001b[1;33m(\u001b[0m\u001b[0msrc\u001b[0m\u001b[1;33m,\u001b[0m \u001b[0mkwds\u001b[0m\u001b[1;33m)\u001b[0m\u001b[1;33m\u001b[0m\u001b[1;33m\u001b[0m\u001b[0m\n\u001b[0m\u001b[0;32m   1868\u001b[0m         \u001b[1;32massert\u001b[0m \u001b[0mself\u001b[0m\u001b[1;33m.\u001b[0m\u001b[0mhandles\u001b[0m \u001b[1;32mis\u001b[0m \u001b[1;32mnot\u001b[0m \u001b[1;32mNone\u001b[0m\u001b[1;33m\u001b[0m\u001b[1;33m\u001b[0m\u001b[0m\n\u001b[0;32m   1869\u001b[0m         \u001b[1;32mfor\u001b[0m \u001b[0mkey\u001b[0m \u001b[1;32min\u001b[0m \u001b[1;33m(\u001b[0m\u001b[1;34m\"storage_options\"\u001b[0m\u001b[1;33m,\u001b[0m \u001b[1;34m\"encoding\"\u001b[0m\u001b[1;33m,\u001b[0m \u001b[1;34m\"memory_map\"\u001b[0m\u001b[1;33m,\u001b[0m \u001b[1;34m\"compression\"\u001b[0m\u001b[1;33m)\u001b[0m\u001b[1;33m:\u001b[0m\u001b[1;33m\u001b[0m\u001b[1;33m\u001b[0m\u001b[0m\n",
      "\u001b[1;32m~\\anaconda3\\lib\\site-packages\\pandas\\io\\parsers.py\u001b[0m in \u001b[0;36m_open_handles\u001b[1;34m(self, src, kwds)\u001b[0m\n\u001b[0;32m   1360\u001b[0m         \u001b[0mLet\u001b[0m \u001b[0mthe\u001b[0m \u001b[0mreaders\u001b[0m \u001b[0mopen\u001b[0m \u001b[0mIOHanldes\u001b[0m \u001b[0mafter\u001b[0m \u001b[0mthey\u001b[0m \u001b[0mare\u001b[0m \u001b[0mdone\u001b[0m \u001b[1;32mwith\u001b[0m \u001b[0mtheir\u001b[0m \u001b[0mpotential\u001b[0m \u001b[0mraises\u001b[0m\u001b[1;33m.\u001b[0m\u001b[1;33m\u001b[0m\u001b[1;33m\u001b[0m\u001b[0m\n\u001b[0;32m   1361\u001b[0m         \"\"\"\n\u001b[1;32m-> 1362\u001b[1;33m         self.handles = get_handle(\n\u001b[0m\u001b[0;32m   1363\u001b[0m             \u001b[0msrc\u001b[0m\u001b[1;33m,\u001b[0m\u001b[1;33m\u001b[0m\u001b[1;33m\u001b[0m\u001b[0m\n\u001b[0;32m   1364\u001b[0m             \u001b[1;34m\"r\"\u001b[0m\u001b[1;33m,\u001b[0m\u001b[1;33m\u001b[0m\u001b[1;33m\u001b[0m\u001b[0m\n",
      "\u001b[1;32m~\\anaconda3\\lib\\site-packages\\pandas\\io\\common.py\u001b[0m in \u001b[0;36mget_handle\u001b[1;34m(path_or_buf, mode, encoding, compression, memory_map, is_text, errors, storage_options)\u001b[0m\n\u001b[0;32m    640\u001b[0m                 \u001b[0merrors\u001b[0m \u001b[1;33m=\u001b[0m \u001b[1;34m\"replace\"\u001b[0m\u001b[1;33m\u001b[0m\u001b[1;33m\u001b[0m\u001b[0m\n\u001b[0;32m    641\u001b[0m             \u001b[1;31m# Encoding\u001b[0m\u001b[1;33m\u001b[0m\u001b[1;33m\u001b[0m\u001b[1;33m\u001b[0m\u001b[0m\n\u001b[1;32m--> 642\u001b[1;33m             handle = open(\n\u001b[0m\u001b[0;32m    643\u001b[0m                 \u001b[0mhandle\u001b[0m\u001b[1;33m,\u001b[0m\u001b[1;33m\u001b[0m\u001b[1;33m\u001b[0m\u001b[0m\n\u001b[0;32m    644\u001b[0m                 \u001b[0mioargs\u001b[0m\u001b[1;33m.\u001b[0m\u001b[0mmode\u001b[0m\u001b[1;33m,\u001b[0m\u001b[1;33m\u001b[0m\u001b[1;33m\u001b[0m\u001b[0m\n",
      "\u001b[1;31mFileNotFoundError\u001b[0m: [Errno 2] No such file or directory: 'train_set.csv'"
     ]
    }
   ],
   "source": [
    "df = pd.read_csv('train_set.csv')\n",
    "y  = df['y']\n",
    "X  = pd.DataFrame(\n",
    "    data    = StandardScaler().fit_transform(df.drop('y', axis=1)),\n",
    "    columns = df.columns.drop('y')\n",
    ")"
   ]
  },
  {
   "cell_type": "code",
   "execution_count": null,
   "id": "79134040",
   "metadata": {},
   "outputs": [],
   "source": [
    "df_label_counts = pd.DataFrame(\n",
    "    data    = np.transpose(np.unique(y, return_counts=True)),\n",
    "    columns = ['label', 'count'] \n",
    ").sort_values(\n",
    "    by        = 'count',\n",
    "    ascending = False\n",
    ").reset_index(\n",
    "    drop = True\n",
    ")\n",
    "\n",
    "df_label_counts['pct'] = 100*df_label_counts['count']/y.size\n",
    "\n",
    "df_label_counts"
   ]
  },
  {
   "cell_type": "markdown",
   "id": "7a7e1440",
   "metadata": {},
   "source": [
    "## Feature Importance"
   ]
  },
  {
   "cell_type": "code",
   "execution_count": null,
   "id": "faf86fed",
   "metadata": {},
   "outputs": [],
   "source": [
    "rf = RandomForestClassifier()\n",
    "rf.fit(X, y)"
   ]
  },
  {
   "cell_type": "code",
   "execution_count": null,
   "id": "be6f239f",
   "metadata": {},
   "outputs": [],
   "source": [
    "max_features = int(df.columns.size/3)\n",
    "\n",
    "df_feature_importances = pd.DataFrame(\n",
    "    data    = zip(df.columns.drop('y'), rf.feature_importances_),\n",
    "    columns = ['feature', 'importance'] \n",
    ").sort_values(\n",
    "    by        = 'importance',\n",
    "    ascending = False,\n",
    ").reset_index(\n",
    "    drop = True\n",
    ")[:max_features]\n",
    "\n",
    "fig = px.line(\n",
    "    data_frame = df_feature_importances,\n",
    "    x          = 'feature',\n",
    "    y          = 'importance'\n",
    ")\n",
    "fig.show()"
   ]
  },
  {
   "cell_type": "markdown",
   "id": "f00732c6",
   "metadata": {},
   "source": [
    "## Deletion of unnecessary features"
   ]
  },
  {
   "cell_type": "code",
   "execution_count": null,
   "id": "95b67da6",
   "metadata": {},
   "outputs": [],
   "source": [
    "X = df[df_feature_importances['feature']]\n",
    "X.shape"
   ]
  },
  {
   "cell_type": "markdown",
   "id": "e4952b2a",
   "metadata": {},
   "source": [
    "## Correlation between features"
   ]
  },
  {
   "cell_type": "code",
   "execution_count": null,
   "id": "16b209ee",
   "metadata": {},
   "outputs": [],
   "source": [
    "fig, ax = plt.subplots(figsize=(18,14))\n",
    "sb.heatmap(X.corr(), cmap=\"Blues\", annot=True, linewidths=0.1)"
   ]
  },
  {
   "cell_type": "markdown",
   "id": "e2172cf3",
   "metadata": {},
   "source": [
    "Features are not correlated: no need to remove correlated features to prevent overfitting!"
   ]
  },
  {
   "cell_type": "markdown",
   "id": "ff3a8d56",
   "metadata": {},
   "source": [
    "## SFS and Gridsearch to each classifier\n",
    "\n",
    "OBS: no need for SFS when using Random Forests. No need for hyperparameter tunning for Discriminant Analysis."
   ]
  },
  {
   "cell_type": "code",
   "execution_count": null,
   "id": "777e32de",
   "metadata": {},
   "outputs": [],
   "source": [
    "n_jobs               = -1\n",
    "cv                   = 5\n",
    "verbose              = 3\n",
    "n_features_to_select = int(df.columns.size/10)\n",
    "scoring              = 'accuracy'"
   ]
  },
  {
   "cell_type": "markdown",
   "id": "f363429d",
   "metadata": {},
   "source": [
    "### Random Forest\n",
    "\n",
    "No need for SFS when using trees!"
   ]
  },
  {
   "cell_type": "code",
   "execution_count": null,
   "id": "c2effae6",
   "metadata": {},
   "outputs": [],
   "source": [
    "gs_rf = GridSearchCV(\n",
    "    estimator  = RandomForestClassifier(),\n",
    "    n_jobs     = n_jobs,\n",
    "    cv         = cv,\n",
    "    verbose    = verbose,\n",
    "    scoring    = scoring,\n",
    "    param_grid = dict(\n",
    "        n_estimators      = [100],\n",
    "        criterion         = ['gini'],\n",
    "        max_depth         = [18], #[18, 20, 22],\n",
    "        min_samples_split = [0.0001], #[0.0001, 0.0005, 0.0010],\n",
    "        class_weight      = [None],\n",
    "        max_samples       = [0.66]\n",
    "    )\n",
    ")\n",
    "gs_rf.fit(X, y)\n",
    "gs = gs_rf\n",
    "print('Estimator:', gs.estimator.__class__.__name__)\n",
    "print('Best result: {:.3f} +- {:.3f}'.format(\n",
    "    gs.cv_results_['mean_test_score'][gs.best_index_],\n",
    "    gs.cv_results_['std_test_score'][gs.best_index_],\n",
    "))\n",
    "print('Best hyperparameters:', gs.best_params_)"
   ]
  },
  {
   "cell_type": "markdown",
   "id": "fab15271",
   "metadata": {},
   "source": [
    "### LDA\n",
    "\n",
    "No need for gridsearch when using discriminant analysis!"
   ]
  },
  {
   "cell_type": "code",
   "execution_count": null,
   "id": "c4d7db4b",
   "metadata": {},
   "outputs": [],
   "source": [
    "sfs_lda = SequentialFeatureSelector(\n",
    "    estimator            = LinearDiscriminantAnalysis(),\n",
    "    direction            = 'forward',\n",
    "    n_features_to_select = n_features_to_select,\n",
    "    n_jobs               = n_jobs,\n",
    "    cv                   = cv,\n",
    "    scoring              = scoring,\n",
    ")\n",
    "sfs_lda.fit(X, y)"
   ]
  },
  {
   "cell_type": "code",
   "execution_count": null,
   "id": "388aeed3",
   "metadata": {},
   "outputs": [],
   "source": [
    "kf       = KFold(n_splits=cv, shuffle=True)\n",
    "features = []\n",
    "accs     = []\n",
    "stds     = []\n",
    "\n",
    "for current_feature in sfs_lda.get_feature_names_out():\n",
    "    features.append(current_feature)\n",
    "    inner_accs = []\n",
    "    \n",
    "    for train_index, test_index in kf.split(X):\n",
    "        X_train, X_test = X.loc[train_index][features], X.loc[test_index][features]\n",
    "        y_train, y_test = y.loc[train_index], y.loc[test_index]\n",
    "        clf = sfs_lda.estimator\n",
    "        clf.fit(X_train, y_train)\n",
    "        y_pred = clf.predict(X_test)\n",
    "        inner_accs.append(accuracy_score(y_test, y_pred))\n",
    "        \n",
    "    accs.append(np.mean(inner_accs))\n",
    "    stds.append(np.std(inner_accs))"
   ]
  },
  {
   "cell_type": "code",
   "execution_count": null,
   "id": "1011f1f0",
   "metadata": {},
   "outputs": [],
   "source": [
    "fig = px.line(\n",
    "    x       = sfs_lda.get_feature_names_out(),\n",
    "    y       = accs,\n",
    "    error_y = stds,\n",
    "    title   = 'Sequential Feature Selector: ' + sfs_lda.estimator.__class__.__name__,\n",
    "    labels  = dict(\n",
    "        x = 'Added feature', \n",
    "        y = 'Accuracy'\n",
    "    )\n",
    ")\n",
    "fig.show()"
   ]
  },
  {
   "cell_type": "code",
   "execution_count": null,
   "id": "3d8de531",
   "metadata": {},
   "outputs": [],
   "source": [
    "features_lda = sfs_lda.get_feature_names_out()[:8]\n",
    "gs_lda = GridSearchCV(\n",
    "    estimator  = LinearDiscriminantAnalysis(),\n",
    "    n_jobs     = n_jobs,\n",
    "    cv         = cv,\n",
    "    verbose    = verbose,\n",
    "    scoring    = scoring,\n",
    "    param_grid = dict()\n",
    ")\n",
    "gs_lda.fit(X[features_lda], y)\n",
    "gs = gs_lda\n",
    "print('Estimator:', gs.estimator.__class__.__name__)\n",
    "print('Best result: {:.3f} +- {:.3f}'.format(\n",
    "    gs.cv_results_['mean_test_score'][gs.best_index_],\n",
    "    gs.cv_results_['std_test_score'][gs.best_index_],\n",
    "))\n",
    "print('Best features:', features_lda)\n",
    "print('Best hyperparameters:', gs.best_params_)"
   ]
  },
  {
   "cell_type": "markdown",
   "id": "4924cd9e",
   "metadata": {},
   "source": [
    "### Suppor Vector Machine\n",
    "\n",
    "    SFS with standard parameters and then gridsearch with selected features\n",
    "    \n",
    "### K Nearest Neighbors\n",
    "\n",
    "    SFS with standard parameters and then gridsearch with selected features\n",
    "    \n",
    "### So on...\n",
    "\n",
    "In the end, test XGBoost -> this is probably the one that will work the best, but its not from sklearn. So we can do this later."
   ]
  },
  {
   "cell_type": "code",
   "execution_count": null,
   "id": "d839155a",
   "metadata": {},
   "outputs": [],
   "source": []
  },
  {
   "cell_type": "code",
   "execution_count": null,
   "id": "7a492583",
   "metadata": {},
   "outputs": [],
   "source": []
  },
  {
   "cell_type": "code",
   "execution_count": null,
   "id": "0dd35832",
   "metadata": {},
   "outputs": [],
   "source": []
  }
 ],
 "metadata": {
  "kernelspec": {
   "display_name": "Python 3",
   "language": "python",
   "name": "python3"
  },
  "language_info": {
   "codemirror_mode": {
    "name": "ipython",
    "version": 3
   },
   "file_extension": ".py",
   "mimetype": "text/x-python",
   "name": "python",
   "nbconvert_exporter": "python",
   "pygments_lexer": "ipython3",
   "version": "3.8.8"
  }
 },
 "nbformat": 4,
 "nbformat_minor": 5
}
